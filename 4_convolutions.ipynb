{
 "cells": [
  {
   "cell_type": "markdown",
   "metadata": {
    "colab_type": "text",
    "id": "4embtkV0pNxM"
   },
   "source": [
    "Deep Learning\n",
    "=============\n",
    "\n",
    "Assignment 4\n",
    "------------\n",
    "\n",
    "Previously in `2_fullyconnected.ipynb` and `3_regularization.ipynb`, we trained fully connected networks to classify [notMNIST](http://yaroslavvb.blogspot.com/2011/09/notmnist-dataset.html) characters.\n",
    "\n",
    "The goal of this assignment is make the neural network convolutional."
   ]
  },
  {
   "cell_type": "code",
   "execution_count": 1,
   "metadata": {
    "cellView": "both",
    "colab": {
     "autoexec": {
      "startup": false,
      "wait_interval": 0
     }
    },
    "colab_type": "code",
    "collapsed": true,
    "id": "tm2CQN_Cpwj0"
   },
   "outputs": [],
   "source": [
    "# These are all the modules we'll be using later. Make sure you can import them\n",
    "# before proceeding further.\n",
    "from __future__ import print_function\n",
    "import numpy as np\n",
    "import tensorflow as tf\n",
    "from six.moves import cPickle as pickle\n",
    "from six.moves import range"
   ]
  },
  {
   "cell_type": "code",
   "execution_count": 2,
   "metadata": {
    "cellView": "both",
    "colab": {
     "autoexec": {
      "startup": false,
      "wait_interval": 0
     },
     "output_extras": [
      {
       "item_id": 1
      }
     ]
    },
    "colab_type": "code",
    "executionInfo": {
     "elapsed": 11948,
     "status": "ok",
     "timestamp": 1446658914837,
     "user": {
      "color": "",
      "displayName": "",
      "isAnonymous": false,
      "isMe": true,
      "permissionId": "",
      "photoUrl": "",
      "sessionId": "0",
      "userId": ""
     },
     "user_tz": 480
    },
    "id": "y3-cj1bpmuxc",
    "outputId": "016b1a51-0290-4b08-efdb-8c95ffc3cd01"
   },
   "outputs": [
    {
     "name": "stdout",
     "output_type": "stream",
     "text": [
      "Training set (200000, 28, 28) (200000,)\n",
      "Validation set (10000, 28, 28) (10000,)\n",
      "Test set (10000, 28, 28) (10000,)\n"
     ]
    }
   ],
   "source": [
    "pickle_file = 'notMNIST.pickle'\n",
    "\n",
    "with open(pickle_file, 'rb') as f:\n",
    "  save = pickle.load(f)\n",
    "  train_dataset = save['train_dataset']\n",
    "  train_labels = save['train_labels']\n",
    "  valid_dataset = save['valid_dataset']\n",
    "  valid_labels = save['valid_labels']\n",
    "  test_dataset = save['test_dataset']\n",
    "  test_labels = save['test_labels']\n",
    "  del save  # hint to help gc free up memory\n",
    "  print('Training set', train_dataset.shape, train_labels.shape)\n",
    "  print('Validation set', valid_dataset.shape, valid_labels.shape)\n",
    "  print('Test set', test_dataset.shape, test_labels.shape)"
   ]
  },
  {
   "cell_type": "markdown",
   "metadata": {
    "colab_type": "text",
    "id": "L7aHrm6nGDMB"
   },
   "source": [
    "Reformat into a TensorFlow-friendly shape:\n",
    "- convolutions need the image data formatted as a cube (width by height by #channels)\n",
    "- labels as float 1-hot encodings."
   ]
  },
  {
   "cell_type": "code",
   "execution_count": 3,
   "metadata": {
    "cellView": "both",
    "colab": {
     "autoexec": {
      "startup": false,
      "wait_interval": 0
     },
     "output_extras": [
      {
       "item_id": 1
      }
     ]
    },
    "colab_type": "code",
    "executionInfo": {
     "elapsed": 11952,
     "status": "ok",
     "timestamp": 1446658914857,
     "user": {
      "color": "",
      "displayName": "",
      "isAnonymous": false,
      "isMe": true,
      "permissionId": "",
      "photoUrl": "",
      "sessionId": "0",
      "userId": ""
     },
     "user_tz": 480
    },
    "id": "IRSyYiIIGIzS",
    "outputId": "650a208c-8359-4852-f4f5-8bf10e80ef6c"
   },
   "outputs": [
    {
     "name": "stdout",
     "output_type": "stream",
     "text": [
      "Training set (200000, 28, 28, 1) (200000, 10)\n",
      "Validation set (10000, 28, 28, 1) (10000, 10)\n",
      "Test set (10000, 28, 28, 1) (10000, 10)\n"
     ]
    }
   ],
   "source": [
    "image_size = 28\n",
    "num_labels = 10\n",
    "num_channels = 1 # grayscale\n",
    "\n",
    "import numpy as np\n",
    "\n",
    "def reformat(dataset, labels):\n",
    "  dataset = dataset.reshape(\n",
    "    (-1, image_size, image_size, num_channels)).astype(np.float32)\n",
    "  labels = (np.arange(num_labels) == labels[:,None]).astype(np.float32)\n",
    "  return dataset, labels\n",
    "train_dataset, train_labels = reformat(train_dataset, train_labels)\n",
    "valid_dataset, valid_labels = reformat(valid_dataset, valid_labels)\n",
    "test_dataset, test_labels = reformat(test_dataset, test_labels)\n",
    "print('Training set', train_dataset.shape, train_labels.shape)\n",
    "print('Validation set', valid_dataset.shape, valid_labels.shape)\n",
    "print('Test set', test_dataset.shape, test_labels.shape)"
   ]
  },
  {
   "cell_type": "code",
   "execution_count": 4,
   "metadata": {
    "cellView": "both",
    "colab": {
     "autoexec": {
      "startup": false,
      "wait_interval": 0
     }
    },
    "colab_type": "code",
    "collapsed": true,
    "id": "AgQDIREv02p1"
   },
   "outputs": [],
   "source": [
    "def accuracy(predictions, labels):\n",
    "  return (100.0 * np.sum(np.argmax(predictions, 1) == np.argmax(labels, 1))\n",
    "          / predictions.shape[0])"
   ]
  },
  {
   "cell_type": "markdown",
   "metadata": {
    "colab_type": "text",
    "id": "5rhgjmROXu2O"
   },
   "source": [
    "Let's build a small network with two convolutional layers, followed by one fully connected layer. Convolutional networks are more expensive computationally, so we'll limit its depth and number of fully connected nodes."
   ]
  },
  {
   "cell_type": "code",
   "execution_count": 12,
   "metadata": {
    "cellView": "both",
    "colab": {
     "autoexec": {
      "startup": false,
      "wait_interval": 0
     }
    },
    "colab_type": "code",
    "id": "IZYv70SvvOan"
   },
   "outputs": [
    {
     "name": "stdout",
     "output_type": "stream",
     "text": [
      "layer1_weights: (5, 5, 1, 16)\n",
      "layer1_biases: (16,)\n",
      "conv: (16, 14, 14, 16)\n",
      "hidden: (16, 14, 14, 16)\n",
      "-\n",
      "layer2_weights: (5, 5, 16, 16)\n",
      "layer2_biases: (16,)\n",
      "conv: (16, 7, 7, 16)\n",
      "hidden: (16, 7, 7, 16)\n",
      "-\n",
      "layer3_weights: (784, 64)\n",
      "layer3_biases: (64,)\n",
      "hidden: (16, 64)\n",
      "-\n",
      "layer4_weights: (64, 10)\n",
      "layer4_biases: (10,)\n",
      "result: (10,)\n",
      "-\n",
      "layer1_weights: (5, 5, 1, 16)\n",
      "layer1_biases: (16,)\n",
      "conv: (10000, 14, 14, 16)\n",
      "hidden: (10000, 14, 14, 16)\n",
      "-\n",
      "layer2_weights: (5, 5, 16, 16)\n",
      "layer2_biases: (16,)\n",
      "conv: (10000, 7, 7, 16)\n",
      "hidden: (10000, 7, 7, 16)\n",
      "-\n",
      "layer3_weights: (784, 64)\n",
      "layer3_biases: (64,)\n",
      "hidden: (10000, 64)\n",
      "-\n",
      "layer4_weights: (64, 10)\n",
      "layer4_biases: (10,)\n",
      "result: (10,)\n",
      "-\n",
      "layer1_weights: (5, 5, 1, 16)\n",
      "layer1_biases: (16,)\n",
      "conv: (10000, 14, 14, 16)\n",
      "hidden: (10000, 14, 14, 16)\n",
      "-\n",
      "layer2_weights: (5, 5, 16, 16)\n",
      "layer2_biases: (16,)\n",
      "conv: (10000, 7, 7, 16)\n",
      "hidden: (10000, 7, 7, 16)\n",
      "-\n",
      "layer3_weights: (784, 64)\n",
      "layer3_biases: (64,)\n",
      "hidden: (10000, 64)\n",
      "-\n",
      "layer4_weights: (64, 10)\n",
      "layer4_biases: (10,)\n",
      "result: (10,)\n",
      "-\n"
     ]
    }
   ],
   "source": [
    "batch_size = 16\n",
    "patch_size = 5\n",
    "depth = 16\n",
    "num_hidden = 64\n",
    "\n",
    "graph = tf.Graph()\n",
    "\n",
    "with graph.as_default():\n",
    "\n",
    "  # Input data.\n",
    "  tf_train_dataset = tf.placeholder(\n",
    "    tf.float32, shape=(batch_size, image_size, image_size, num_channels))\n",
    "  tf_train_labels = tf.placeholder(tf.float32, shape=(batch_size, num_labels))\n",
    "  tf_valid_dataset = tf.constant(valid_dataset)\n",
    "  tf_test_dataset = tf.constant(test_dataset)\n",
    "  \n",
    "  # Variables.\n",
    "  layer1_weights = tf.Variable(tf.truncated_normal(\n",
    "      [patch_size, patch_size, num_channels, depth], stddev=0.1))\n",
    "  layer1_biases = tf.Variable(tf.zeros([depth]))\n",
    "\n",
    "  layer2_weights = tf.Variable(tf.truncated_normal(\n",
    "      [patch_size, patch_size, depth, depth], stddev=0.1))  \n",
    "  layer2_biases = tf.Variable(tf.constant(1.0, shape=[depth]))\n",
    "  \n",
    "  layer3_weights = tf.Variable(tf.truncated_normal(\n",
    "      [image_size // 4 * image_size // 4 * depth, num_hidden], stddev=0.1))\n",
    "  layer3_biases = tf.Variable(tf.constant(1.0, shape=[num_hidden]))\n",
    "  \n",
    "  layer4_weights = tf.Variable(tf.truncated_normal(\n",
    "      [num_hidden, num_labels], stddev=0.1))\n",
    "  \n",
    "  layer4_biases = tf.Variable(tf.constant(1.0, shape=[num_labels]))\n",
    "  \n",
    "  \n",
    "  # Model.\n",
    "  def model(data):\n",
    "    print(\"layer1_weights: \"+str(layer1_weights.shape))\n",
    "    print(\"layer1_biases: \"+str(layer1_biases.shape))\n",
    "    conv = tf.nn.conv2d(data, layer1_weights, [1, 2, 2, 1], padding='SAME')\n",
    "    print(\"conv: \"+str(conv.shape))\n",
    "    hidden = tf.nn.relu(conv + layer1_biases)\n",
    "    print(\"hidden: \"+str(hidden.shape))\n",
    "    print(\"-\")\n",
    "    \n",
    "    \n",
    "    print(\"layer2_weights: \"+str(layer2_weights.shape))\n",
    "    print(\"layer2_biases: \"+str(layer2_biases.shape))\n",
    "    conv = tf.nn.conv2d(hidden, layer2_weights, [1, 2, 2, 1], padding='SAME')\n",
    "    print(\"conv: \"+str(conv.shape))\n",
    "    hidden = tf.nn.relu(conv + layer2_biases)\n",
    "    print(\"hidden: \"+str(hidden.shape))\n",
    "    print(\"-\")\n",
    "    \n",
    "    shape = hidden.get_shape().as_list()\n",
    "    reshape = tf.reshape(hidden, [shape[0], shape[1] * shape[2] * shape[3]])\n",
    "    \n",
    "    print(\"layer3_weights: \"+str(layer3_weights.shape))\n",
    "    print(\"layer3_biases: \"+str(layer3_biases.shape))\n",
    "    hidden = tf.nn.relu(tf.matmul(reshape, layer3_weights) + layer3_biases)\n",
    "    print(\"hidden: \"+str(hidden.shape))\n",
    "    print(\"-\")\n",
    "\n",
    "    print(\"layer4_weights: \"+str(layer4_weights.shape))\n",
    "    print(\"layer4_biases: \"+str(layer4_biases.shape))\n",
    "    result = tf.matmul(hidden, layer4_weights) + layer4_biases\n",
    "    print(\"result: \"+str(layer4_biases.shape))\n",
    "    print(\"-\")\n",
    "    \n",
    "    return result\n",
    "  \n",
    "  # Training computation.\n",
    "  logits = model(tf_train_dataset)\n",
    "  loss = tf.reduce_mean(\n",
    "    tf.nn.softmax_cross_entropy_with_logits(labels=tf_train_labels, logits=logits))\n",
    "    \n",
    "  # Optimizer.\n",
    "  optimizer = tf.train.GradientDescentOptimizer(0.05).minimize(loss)\n",
    "  \n",
    "  # Predictions for the training, validation, and test data.\n",
    "  train_prediction = tf.nn.softmax(logits)\n",
    "  valid_prediction = tf.nn.softmax(model(tf_valid_dataset))\n",
    "  test_prediction = tf.nn.softmax(model(tf_test_dataset))"
   ]
  },
  {
   "cell_type": "code",
   "execution_count": 13,
   "metadata": {
    "cellView": "both",
    "colab": {
     "autoexec": {
      "startup": false,
      "wait_interval": 0
     },
     "output_extras": [
      {
       "item_id": 37
      }
     ]
    },
    "colab_type": "code",
    "executionInfo": {
     "elapsed": 63292,
     "status": "ok",
     "timestamp": 1446658966251,
     "user": {
      "color": "",
      "displayName": "",
      "isAnonymous": false,
      "isMe": true,
      "permissionId": "",
      "photoUrl": "",
      "sessionId": "0",
      "userId": ""
     },
     "user_tz": 480
    },
    "id": "noKFb2UovVFR",
    "outputId": "28941338-2ef9-4088-8bd1-44295661e628"
   },
   "outputs": [
    {
     "name": "stdout",
     "output_type": "stream",
     "text": [
      "Initialized\n",
      "Minibatch loss at step 0: 2.725944\n",
      "Minibatch accuracy: 18.8%\n",
      "Validation accuracy: 10.0%\n",
      "Minibatch loss at step 50: 1.806348\n",
      "Minibatch accuracy: 43.8%\n",
      "Validation accuracy: 42.6%\n",
      "Minibatch loss at step 100: 0.738228\n",
      "Minibatch accuracy: 81.2%\n",
      "Validation accuracy: 68.7%\n",
      "Minibatch loss at step 150: 0.859987\n",
      "Minibatch accuracy: 75.0%\n",
      "Validation accuracy: 73.2%\n",
      "Minibatch loss at step 200: 1.188212\n",
      "Minibatch accuracy: 75.0%\n",
      "Validation accuracy: 69.0%\n",
      "Minibatch loss at step 250: 1.414016\n",
      "Minibatch accuracy: 68.8%\n",
      "Validation accuracy: 76.2%\n",
      "Minibatch loss at step 300: 0.801751\n",
      "Minibatch accuracy: 68.8%\n",
      "Validation accuracy: 79.4%\n",
      "Minibatch loss at step 350: 0.813376\n",
      "Minibatch accuracy: 81.2%\n",
      "Validation accuracy: 80.5%\n",
      "Minibatch loss at step 400: 0.287928\n",
      "Minibatch accuracy: 93.8%\n",
      "Validation accuracy: 78.5%\n",
      "Minibatch loss at step 450: 0.464904\n",
      "Minibatch accuracy: 81.2%\n",
      "Validation accuracy: 79.5%\n",
      "Minibatch loss at step 500: 0.400863\n",
      "Minibatch accuracy: 93.8%\n",
      "Validation accuracy: 81.3%\n",
      "Minibatch loss at step 550: 0.980132\n",
      "Minibatch accuracy: 68.8%\n",
      "Validation accuracy: 81.2%\n",
      "Minibatch loss at step 600: 0.543212\n",
      "Minibatch accuracy: 75.0%\n",
      "Validation accuracy: 81.7%\n",
      "Minibatch loss at step 650: 0.478331\n",
      "Minibatch accuracy: 87.5%\n",
      "Validation accuracy: 81.9%\n",
      "Minibatch loss at step 700: 1.017936\n",
      "Minibatch accuracy: 75.0%\n",
      "Validation accuracy: 81.5%\n",
      "Minibatch loss at step 750: 0.703336\n",
      "Minibatch accuracy: 75.0%\n",
      "Validation accuracy: 82.3%\n",
      "Minibatch loss at step 800: 0.633284\n",
      "Minibatch accuracy: 81.2%\n",
      "Validation accuracy: 82.4%\n",
      "Minibatch loss at step 850: 0.224764\n",
      "Minibatch accuracy: 93.8%\n",
      "Validation accuracy: 82.6%\n",
      "Minibatch loss at step 900: 0.301791\n",
      "Minibatch accuracy: 87.5%\n",
      "Validation accuracy: 81.9%\n",
      "Minibatch loss at step 950: 0.662188\n",
      "Minibatch accuracy: 81.2%\n",
      "Validation accuracy: 82.1%\n",
      "Minibatch loss at step 1000: 0.294096\n",
      "Minibatch accuracy: 93.8%\n",
      "Validation accuracy: 83.2%\n",
      "Test accuracy: 90.1%\n"
     ]
    }
   ],
   "source": [
    "num_steps = 1001\n",
    "\n",
    "with tf.Session(graph=graph) as session:\n",
    "  tf.global_variables_initializer().run()\n",
    "  print('Initialized')\n",
    "  for step in range(num_steps):\n",
    "    offset = (step * batch_size) % (train_labels.shape[0] - batch_size)\n",
    "    batch_data = train_dataset[offset:(offset + batch_size), :, :, :]\n",
    "    batch_labels = train_labels[offset:(offset + batch_size), :]\n",
    "    feed_dict = {tf_train_dataset : batch_data, tf_train_labels : batch_labels}\n",
    "    _, l, predictions = session.run(\n",
    "      [optimizer, loss, train_prediction], feed_dict=feed_dict)\n",
    "    if (step % 50 == 0):\n",
    "      print('Minibatch loss at step %d: %f' % (step, l))\n",
    "      print('Minibatch accuracy: %.1f%%' % accuracy(predictions, batch_labels))\n",
    "      print('Validation accuracy: %.1f%%' % accuracy(\n",
    "        valid_prediction.eval(), valid_labels))\n",
    "  print('Test accuracy: %.1f%%' % accuracy(test_prediction.eval(), test_labels))"
   ]
  },
  {
   "cell_type": "markdown",
   "metadata": {
    "colab_type": "text",
    "id": "KedKkn4EutIK"
   },
   "source": [
    "---\n",
    "Problem 1\n",
    "---------\n",
    "\n",
    "The convolutional model above uses convolutions with stride 2 to reduce the dimensionality. Replace the strides by a max pooling operation (`nn.max_pool()`) of stride 2 and kernel size 2.\n",
    "\n",
    "---"
   ]
  },
  {
   "cell_type": "code",
   "execution_count": 39,
   "metadata": {},
   "outputs": [
    {
     "name": "stdout",
     "output_type": "stream",
     "text": [
      "layer1_weights: (5, 5, 1, 16)\n",
      "layer1_biases: (16,)\n",
      "conv: (16, 28, 28, 16)\n",
      "hidden: (16, 28, 28, 16)\n",
      "hidden2: (16, 14, 14, 16)\n",
      "-\n",
      "layer2_weights: (5, 5, 16, 16)\n",
      "layer2_biases: (16,)\n",
      "conv: (16, 14, 14, 16)\n",
      "hidden: (16, 14, 14, 16)\n",
      "hidden2: (16, 7, 7, 16)\n",
      "-\n",
      "layer3_weights: (784, 64)\n",
      "layer3_biases: (64,)\n",
      "hidden: (16, 64)\n",
      "-\n",
      "layer4_weights: (64, 10)\n",
      "layer4_biases: (10,)\n",
      "result: (10,)\n",
      "-\n",
      "layer1_weights: (5, 5, 1, 16)\n",
      "layer1_biases: (16,)\n",
      "conv: (10000, 28, 28, 16)\n",
      "hidden: (10000, 28, 28, 16)\n",
      "hidden2: (10000, 14, 14, 16)\n",
      "-\n",
      "layer2_weights: (5, 5, 16, 16)\n",
      "layer2_biases: (16,)\n",
      "conv: (10000, 14, 14, 16)\n",
      "hidden: (10000, 14, 14, 16)\n",
      "hidden2: (10000, 7, 7, 16)\n",
      "-\n",
      "layer3_weights: (784, 64)\n",
      "layer3_biases: (64,)\n",
      "hidden: (10000, 64)\n",
      "-\n",
      "layer4_weights: (64, 10)\n",
      "layer4_biases: (10,)\n",
      "result: (10,)\n",
      "-\n",
      "layer1_weights: (5, 5, 1, 16)\n",
      "layer1_biases: (16,)\n",
      "conv: (10000, 28, 28, 16)\n",
      "hidden: (10000, 28, 28, 16)\n",
      "hidden2: (10000, 14, 14, 16)\n",
      "-\n",
      "layer2_weights: (5, 5, 16, 16)\n",
      "layer2_biases: (16,)\n",
      "conv: (10000, 14, 14, 16)\n",
      "hidden: (10000, 14, 14, 16)\n",
      "hidden2: (10000, 7, 7, 16)\n",
      "-\n",
      "layer3_weights: (784, 64)\n",
      "layer3_biases: (64,)\n",
      "hidden: (10000, 64)\n",
      "-\n",
      "layer4_weights: (64, 10)\n",
      "layer4_biases: (10,)\n",
      "result: (10,)\n",
      "-\n"
     ]
    }
   ],
   "source": [
    "batch_size = 16\n",
    "patch_size = 5\n",
    "depth = 16\n",
    "num_hidden = 64\n",
    "\n",
    "graph = tf.Graph()\n",
    "\n",
    "with graph.as_default():\n",
    "\n",
    "  # Input data.\n",
    "  tf_train_dataset = tf.placeholder(\n",
    "    tf.float32, shape=(batch_size, image_size, image_size, num_channels))\n",
    "  tf_train_labels = tf.placeholder(tf.float32, shape=(batch_size, num_labels))\n",
    "  tf_valid_dataset = tf.constant(valid_dataset)\n",
    "  tf_test_dataset = tf.constant(test_dataset)\n",
    "  \n",
    "  # Variables.\n",
    "  layer1_weights = tf.Variable(tf.truncated_normal(\n",
    "      [patch_size, patch_size, num_channels, depth], stddev=0.1))\n",
    "  layer1_biases = tf.Variable(tf.zeros([depth]))\n",
    "\n",
    "  layer2_weights = tf.Variable(tf.truncated_normal(\n",
    "      [patch_size, patch_size, depth, depth], stddev=0.1))  \n",
    "  layer2_biases = tf.Variable(tf.constant(1.0, shape=[depth]))\n",
    "  \n",
    "  layer3_weights = tf.Variable(tf.truncated_normal(\n",
    "      [image_size // 4 * image_size // 4 * depth, num_hidden], stddev=0.1))\n",
    "  layer3_biases = tf.Variable(tf.constant(1.0, shape=[num_hidden]))\n",
    "  \n",
    "  layer4_weights = tf.Variable(tf.truncated_normal(\n",
    "      [num_hidden, num_labels], stddev=0.1))\n",
    "  \n",
    "  layer4_biases = tf.Variable(tf.constant(1.0, shape=[num_labels]))\n",
    "  \n",
    "  \n",
    "  # Model.\n",
    "  def model(data):\n",
    "    print(\"layer1_weights: \"+str(layer1_weights.shape))\n",
    "    print(\"layer1_biases: \"+str(layer1_biases.shape))\n",
    "    conv = tf.nn.conv2d(data, layer1_weights, [1, 1, 1, 1], padding='SAME')\n",
    "    print(\"conv: \"+str(conv.shape))\n",
    "    hidden = tf.nn.relu(conv + layer1_biases)\n",
    "    print(\"hidden: \"+str(hidden.shape))\n",
    "    ksize = [1, 2, 2, 1]\n",
    "    strides = [1,2,2,1]\n",
    "    hidden = tf.nn.max_pool(hidden, ksize, strides, padding='SAME')\n",
    "    print(\"hidden2: \"+str(hidden.shape))\n",
    "    print(\"-\")\n",
    "    \n",
    "    \n",
    "    print(\"layer2_weights: \"+str(layer2_weights.shape))\n",
    "    print(\"layer2_biases: \"+str(layer2_biases.shape))\n",
    "    conv = tf.nn.conv2d(hidden, layer2_weights, [1, 1, 1, 1], padding='SAME')\n",
    "    print(\"conv: \"+str(conv.shape))\n",
    "    hidden = tf.nn.relu(conv + layer2_biases)\n",
    "    print(\"hidden: \"+str(hidden.shape))\n",
    "    ksize = [1, 2, 2, 1]\n",
    "    strides = [1,2,2,1]\n",
    "    hidden = tf.nn.max_pool(hidden, ksize, strides, padding='SAME')\n",
    "    print(\"hidden2: \"+str(hidden.shape))\n",
    "    print(\"-\")\n",
    "    \n",
    "    shape = hidden.get_shape().as_list()\n",
    "    reshape = tf.reshape(hidden, [shape[0], shape[1] * shape[2] * shape[3]])\n",
    "    \n",
    "    print(\"layer3_weights: \"+str(layer3_weights.shape))\n",
    "    print(\"layer3_biases: \"+str(layer3_biases.shape))\n",
    "    hidden = tf.nn.relu(tf.matmul(reshape, layer3_weights) + layer3_biases)\n",
    "    print(\"hidden: \"+str(hidden.shape))\n",
    "    print(\"-\")\n",
    "\n",
    "    print(\"layer4_weights: \"+str(layer4_weights.shape))\n",
    "    print(\"layer4_biases: \"+str(layer4_biases.shape))\n",
    "    result = tf.matmul(hidden, layer4_weights) + layer4_biases\n",
    "    print(\"result: \"+str(layer4_biases.shape))\n",
    "    print(\"-\")\n",
    "    \n",
    "    return result\n",
    "  \n",
    "  # Training computation.\n",
    "  logits = model(tf_train_dataset)\n",
    "  loss = tf.reduce_mean(\n",
    "    tf.nn.softmax_cross_entropy_with_logits(labels=tf_train_labels, logits=logits))\n",
    "    \n",
    "  # Optimizer.\n",
    "  optimizer = tf.train.GradientDescentOptimizer(0.05).minimize(loss)\n",
    "  \n",
    "  # Predictions for the training, validation, and test data.\n",
    "  train_prediction = tf.nn.softmax(logits)\n",
    "  valid_prediction = tf.nn.softmax(model(tf_valid_dataset))\n",
    "  test_prediction = tf.nn.softmax(model(tf_test_dataset))"
   ]
  },
  {
   "cell_type": "code",
   "execution_count": 40,
   "metadata": {},
   "outputs": [
    {
     "name": "stdout",
     "output_type": "stream",
     "text": [
      "Initialized\n",
      "Minibatch loss at step 0: 3.820326\n",
      "Minibatch accuracy: 18.8%\n",
      "Validation accuracy: 10.0%\n",
      "Minibatch loss at step 50: 2.151432\n",
      "Minibatch accuracy: 31.2%\n",
      "Validation accuracy: 25.6%\n",
      "Minibatch loss at step 100: 0.905109\n",
      "Minibatch accuracy: 81.2%\n",
      "Validation accuracy: 63.3%\n",
      "Minibatch loss at step 150: 0.937130\n",
      "Minibatch accuracy: 62.5%\n",
      "Validation accuracy: 69.1%\n",
      "Minibatch loss at step 200: 1.830042\n",
      "Minibatch accuracy: 68.8%\n",
      "Validation accuracy: 50.4%\n",
      "Minibatch loss at step 250: 1.569284\n",
      "Minibatch accuracy: 56.2%\n",
      "Validation accuracy: 73.2%\n",
      "Minibatch loss at step 300: 0.785148\n",
      "Minibatch accuracy: 75.0%\n",
      "Validation accuracy: 79.2%\n",
      "Minibatch loss at step 350: 0.685983\n",
      "Minibatch accuracy: 81.2%\n",
      "Validation accuracy: 79.8%\n",
      "Minibatch loss at step 400: 0.268304\n",
      "Minibatch accuracy: 87.5%\n",
      "Validation accuracy: 80.4%\n",
      "Minibatch loss at step 450: 0.356184\n",
      "Minibatch accuracy: 93.8%\n",
      "Validation accuracy: 80.6%\n",
      "Minibatch loss at step 500: 0.383192\n",
      "Minibatch accuracy: 87.5%\n",
      "Validation accuracy: 82.0%\n",
      "Minibatch loss at step 550: 0.774796\n",
      "Minibatch accuracy: 81.2%\n",
      "Validation accuracy: 82.0%\n",
      "Minibatch loss at step 600: 0.467138\n",
      "Minibatch accuracy: 75.0%\n",
      "Validation accuracy: 82.3%\n",
      "Minibatch loss at step 650: 0.532510\n",
      "Minibatch accuracy: 87.5%\n",
      "Validation accuracy: 81.6%\n",
      "Minibatch loss at step 700: 1.102397\n",
      "Minibatch accuracy: 75.0%\n",
      "Validation accuracy: 82.8%\n",
      "Minibatch loss at step 750: 0.622089\n",
      "Minibatch accuracy: 81.2%\n",
      "Validation accuracy: 82.8%\n",
      "Minibatch loss at step 800: 0.503946\n",
      "Minibatch accuracy: 87.5%\n",
      "Validation accuracy: 83.8%\n",
      "Minibatch loss at step 850: 0.109419\n",
      "Minibatch accuracy: 100.0%\n",
      "Validation accuracy: 84.1%\n",
      "Minibatch loss at step 900: 0.244538\n",
      "Minibatch accuracy: 93.8%\n",
      "Validation accuracy: 83.4%\n",
      "Minibatch loss at step 950: 0.699408\n",
      "Minibatch accuracy: 68.8%\n",
      "Validation accuracy: 84.3%\n",
      "Minibatch loss at step 1000: 0.489641\n",
      "Minibatch accuracy: 93.8%\n",
      "Validation accuracy: 85.1%\n",
      "Test accuracy: 91.5%\n"
     ]
    }
   ],
   "source": [
    "num_steps = 1001\n",
    "\n",
    "with tf.Session(graph=graph) as session:\n",
    "  tf.global_variables_initializer().run()\n",
    "  print('Initialized')\n",
    "  for step in range(num_steps):\n",
    "    offset = (step * batch_size) % (train_labels.shape[0] - batch_size)\n",
    "    batch_data = train_dataset[offset:(offset + batch_size), :, :, :]\n",
    "    batch_labels = train_labels[offset:(offset + batch_size), :]\n",
    "    feed_dict = {tf_train_dataset : batch_data, tf_train_labels : batch_labels}\n",
    "    _, l, predictions = session.run(\n",
    "      [optimizer, loss, train_prediction], feed_dict=feed_dict)\n",
    "    if (step % 50 == 0):\n",
    "      print('Minibatch loss at step %d: %f' % (step, l))\n",
    "      print('Minibatch accuracy: %.1f%%' % accuracy(predictions, batch_labels))\n",
    "      print('Validation accuracy: %.1f%%' % accuracy(\n",
    "        valid_prediction.eval(), valid_labels))\n",
    "  print('Test accuracy: %.1f%%' % accuracy(test_prediction.eval(), test_labels))"
   ]
  },
  {
   "cell_type": "markdown",
   "metadata": {
    "colab_type": "text",
    "id": "klf21gpbAgb-"
   },
   "source": [
    "---\n",
    "Problem 2\n",
    "---------\n",
    "\n",
    "Try to get the best performance you can using a convolutional net. Look for example at the classic [LeNet5](http://yann.lecun.com/exdb/lenet/) architecture, adding Dropout, and/or adding learning rate decay.\n",
    "\n",
    "---"
   ]
  }
 ],
 "metadata": {
  "colab": {
   "default_view": {},
   "name": "4_convolutions.ipynb",
   "provenance": [],
   "version": "0.3.2",
   "views": {}
  },
  "kernelspec": {
   "display_name": "Python 2",
   "language": "python",
   "name": "python2"
  },
  "language_info": {
   "codemirror_mode": {
    "name": "ipython",
    "version": 2
   },
   "file_extension": ".py",
   "mimetype": "text/x-python",
   "name": "python",
   "nbconvert_exporter": "python",
   "pygments_lexer": "ipython2",
   "version": "2.7.10"
  }
 },
 "nbformat": 4,
 "nbformat_minor": 1
}
